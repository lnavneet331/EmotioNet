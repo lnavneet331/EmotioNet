{
 "cells": [
  {
   "cell_type": "code",
   "execution_count": null,
   "metadata": {},
   "outputs": [],
   "source": [
    "import os\n",
    "import csv\n",
    "import requests"
   ]
  },
  {
   "cell_type": "code",
   "execution_count": null,
   "metadata": {},
   "outputs": [],
   "source": [
    "emotions = {\n",
    "    'Happy': [12, 25],\n",
    "    'Sad': [4, 15],\n",
    "    'Fearful': [1, 4, 20, 25],\n",
    "    'Angry': [4, 7, 24],\n",
    "    'Surprised': [1, 2, 25, 26],\n",
    "    'Disgusted': [9, 10, 17],\n",
    "    'Happily sad': [4, 6, 12, 25],\n",
    "    'Happily surprised': [1, 2, 12, 25],\n",
    "    'Happily disgusted': [10, 12, 25],\n",
    "    'Sadly fearful': [1, 4, 15, 25],\n",
    "    'Sadly angry': [4, 7, 15],\n",
    "    'Sadly surprised': [1, 4, 25, 26],\n",
    "    'Sadly disgusted': [4, 10],\n",
    "    'Fearfully angry': [4, 20, 25],\n",
    "    'Fearfully surprised': [1, 2, 5, 20, 25],\n",
    "    'Fearfully disgusted': [1, 4, 10, 20, 25],\n",
    "    'Angrily surprised': [4, 25, 26],\n",
    "    'Disgusted surprise': [1, 2, 5, 10],\n",
    "    'Happily fearful': [1, 2, 12, 25, 26],\n",
    "    'Angrily disgusted': [4, 10, 17],\n",
    "    'Awed': [1, 2, 5, 25],\n",
    "    'Appalled': [4, 9, 10],\n",
    "    'Hatred': [4, 7, 10]\n",
    "}"
   ]
  },
  {
   "cell_type": "code",
   "execution_count": null,
   "metadata": {},
   "outputs": [],
   "source": [
    "output_dir = 'dataset'\n",
    "if not os.path.exists(output_dir):\n",
    "    os.makedirs(output_dir)\n",
    "\n",
    "for emotion in emotions.keys():\n",
    "    emotion_dir = os.path.join(output_dir, emotion)\n",
    "    if not os.path.exists(emotion_dir):\n",
    "        os.makedirs(emotion_dir)\n"
   ]
  },
  {
   "cell_type": "code",
   "execution_count": null,
   "metadata": {},
   "outputs": [],
   "source": [
    "for filename in os.listdir(dataset_folder):\n",
    "    if filename.endswith('.txt'):\n",
    "        file_path = os.path.join(dataset_folder, filename)\n",
    "        \n",
    "        with open(file_path, 'r') as file:\n",
    "            for line in file:\n",
    "                data = line.strip().split('\t')\n",
    "                data.pop(1)\n",
    "                image_url = data[0]\n",
    "                au_values = data[1:]\n",
    "                \n",
    "                emotion = None\n",
    "                for emotion, au_list in emotions.items():\n",
    "                    match = True\n",
    "                    for au in au_list:\n",
    "                        if au > len(au_values) or au_values[au - 1] != '1':\n",
    "                            match = False\n",
    "                            break\n",
    "                    if match:\n",
    "                        break\n",
    "\n",
    "                if emotion:\n",
    "                    emotion_dir = os.path.join(output_dir, emotion)\n",
    "                    image_name = os.path.basename(image_url)\n",
    "                    image_path = os.path.join(emotion_dir, image_name)\n",
    "                    response = requests.get(image_url, stream=True)\n",
    "                    print(image_url)\n",
    "                    if response.status_code == 200:\n",
    "                        with open(image_path, 'wb') as image_file:\n",
    "                            for chunk in response.iter_content(1024):\n",
    "                                image_file.write(chunk)\n",
    "                        print(f\"Downloaded image: {image_name} for emotion: {emotion}\")\n",
    "                    else:\n",
    "                        print(f\"Failed to download image: {image_name} for emotion: {emotion}\")\n",
    "                else:\n",
    "                    print(f\"No matching emotion found for image URL: {image_url}\")"
   ]
  },
  {
   "cell_type": "code",
   "execution_count": null,
   "metadata": {},
   "outputs": [],
   "source": []
  }
 ],
 "metadata": {
  "kernelspec": {
   "display_name": "femo1",
   "language": "python",
   "name": "python3"
  },
  "language_info": {
   "codemirror_mode": {
    "name": "ipython",
    "version": 3
   },
   "file_extension": ".py",
   "mimetype": "text/x-python",
   "name": "python",
   "nbconvert_exporter": "python",
   "pygments_lexer": "ipython3",
   "version": "3.9.0"
  },
  "orig_nbformat": 4
 },
 "nbformat": 4,
 "nbformat_minor": 2
}
