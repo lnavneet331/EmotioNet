{
 "cells": [
  {
   "cell_type": "code",
   "execution_count": 1,
   "metadata": {},
   "outputs": [],
   "source": [
    "%%capture\n",
    "# !pip install opendatasets\n",
    "# import opendatasets as od\n",
    "# od.download(\"https://www.kaggle.com/datasets/mahmoudima/mma-facial-expression\",\"/data\")"
   ]
  },
  {
   "cell_type": "code",
   "execution_count": 2,
   "metadata": {},
   "outputs": [
    {
     "name": "stdout",
     "output_type": "stream",
     "text": [
      "Requirement already satisfied: opencv-python in c:\\users\\lnavn\\.conda\\envs\\femo1\\lib\\site-packages (4.7.0.72)\n",
      "Requirement already satisfied: numpy>=1.17.0 in c:\\users\\lnavn\\.conda\\envs\\femo1\\lib\\site-packages (from opencv-python) (1.23.5)\n"
     ]
    },
    {
     "name": "stderr",
     "output_type": "stream",
     "text": [
      "WARNING: Ignoring invalid distribution -rotobuf (c:\\users\\lnavn\\.conda\\envs\\femo1\\lib\\site-packages)\n",
      "WARNING: Ignoring invalid distribution -rotobuf (c:\\users\\lnavn\\.conda\\envs\\femo1\\lib\\site-packages)\n",
      "WARNING: Ignoring invalid distribution -rotobuf (c:\\users\\lnavn\\.conda\\envs\\femo1\\lib\\site-packages)\n",
      "WARNING: Ignoring invalid distribution -rotobuf (c:\\users\\lnavn\\.conda\\envs\\femo1\\lib\\site-packages)\n",
      "WARNING: Ignoring invalid distribution -rotobuf (c:\\users\\lnavn\\.conda\\envs\\femo1\\lib\\site-packages)\n",
      "WARNING: Ignoring invalid distribution -rotobuf (c:\\users\\lnavn\\.conda\\envs\\femo1\\lib\\site-packages)\n"
     ]
    },
    {
     "name": "stdout",
     "output_type": "stream",
     "text": [
      "Requirement already satisfied: imgaug in c:\\users\\lnavn\\.conda\\envs\\femo1\\lib\\site-packages (0.4.0)\n",
      "Requirement already satisfied: Pillow in c:\\users\\lnavn\\.conda\\envs\\femo1\\lib\\site-packages (from imgaug) (9.5.0)\n",
      "Requirement already satisfied: numpy>=1.15 in c:\\users\\lnavn\\.conda\\envs\\femo1\\lib\\site-packages (from imgaug) (1.23.5)\n",
      "Requirement already satisfied: six in c:\\users\\lnavn\\.conda\\envs\\femo1\\lib\\site-packages (from imgaug) (1.16.0)\n",
      "Requirement already satisfied: scikit-image>=0.14.2 in c:\\users\\lnavn\\.conda\\envs\\femo1\\lib\\site-packages (from imgaug) (0.21.0)\n",
      "Requirement already satisfied: opencv-python in c:\\users\\lnavn\\.conda\\envs\\femo1\\lib\\site-packages (from imgaug) (4.7.0.72)\n",
      "Requirement already satisfied: imageio in c:\\users\\lnavn\\.conda\\envs\\femo1\\lib\\site-packages (from imgaug) (2.31.0)\n",
      "Requirement already satisfied: scipy in c:\\users\\lnavn\\.conda\\envs\\femo1\\lib\\site-packages (from imgaug) (1.10.1)\n",
      "Requirement already satisfied: Shapely in c:\\users\\lnavn\\.conda\\envs\\femo1\\lib\\site-packages (from imgaug) (2.0.1)\n",
      "Requirement already satisfied: matplotlib in c:\\users\\lnavn\\.conda\\envs\\femo1\\lib\\site-packages (from imgaug) (3.7.1)\n",
      "Requirement already satisfied: lazy_loader>=0.2 in c:\\users\\lnavn\\.conda\\envs\\femo1\\lib\\site-packages (from scikit-image>=0.14.2->imgaug) (0.2)\n",
      "Requirement already satisfied: packaging>=21 in c:\\users\\lnavn\\.conda\\envs\\femo1\\lib\\site-packages (from scikit-image>=0.14.2->imgaug) (23.1)\n",
      "Requirement already satisfied: networkx>=2.8 in c:\\users\\lnavn\\.conda\\envs\\femo1\\lib\\site-packages (from scikit-image>=0.14.2->imgaug) (3.1)\n",
      "Requirement already satisfied: tifffile>=2022.8.12 in c:\\users\\lnavn\\.conda\\envs\\femo1\\lib\\site-packages (from scikit-image>=0.14.2->imgaug) (2023.4.12)\n",
      "Requirement already satisfied: PyWavelets>=1.1.1 in c:\\users\\lnavn\\.conda\\envs\\femo1\\lib\\site-packages (from scikit-image>=0.14.2->imgaug) (1.4.1)\n",
      "Requirement already satisfied: kiwisolver>=1.0.1 in c:\\users\\lnavn\\.conda\\envs\\femo1\\lib\\site-packages (from matplotlib->imgaug) (1.4.4)\n",
      "Requirement already satisfied: pyparsing>=2.3.1 in c:\\users\\lnavn\\.conda\\envs\\femo1\\lib\\site-packages (from matplotlib->imgaug) (3.0.9)\n",
      "Requirement already satisfied: fonttools>=4.22.0 in c:\\users\\lnavn\\.conda\\envs\\femo1\\lib\\site-packages (from matplotlib->imgaug) (4.39.4)\n",
      "Requirement already satisfied: importlib-resources>=3.2.0 in c:\\users\\lnavn\\.conda\\envs\\femo1\\lib\\site-packages (from matplotlib->imgaug) (5.12.0)\n",
      "Requirement already satisfied: python-dateutil>=2.7 in c:\\users\\lnavn\\.conda\\envs\\femo1\\lib\\site-packages (from matplotlib->imgaug) (2.8.2)\n",
      "Requirement already satisfied: contourpy>=1.0.1 in c:\\users\\lnavn\\.conda\\envs\\femo1\\lib\\site-packages (from matplotlib->imgaug) (1.0.7)\n",
      "Requirement already satisfied: cycler>=0.10 in c:\\users\\lnavn\\.conda\\envs\\femo1\\lib\\site-packages (from matplotlib->imgaug) (0.11.0)\n",
      "Requirement already satisfied: zipp>=3.1.0 in c:\\users\\lnavn\\.conda\\envs\\femo1\\lib\\site-packages (from importlib-resources>=3.2.0->matplotlib->imgaug) (3.15.0)\n"
     ]
    },
    {
     "name": "stderr",
     "output_type": "stream",
     "text": [
      "WARNING: Ignoring invalid distribution -rotobuf (c:\\users\\lnavn\\.conda\\envs\\femo1\\lib\\site-packages)\n",
      "WARNING: Ignoring invalid distribution -rotobuf (c:\\users\\lnavn\\.conda\\envs\\femo1\\lib\\site-packages)\n",
      "WARNING: Ignoring invalid distribution -rotobuf (c:\\users\\lnavn\\.conda\\envs\\femo1\\lib\\site-packages)\n",
      "WARNING: Ignoring invalid distribution -rotobuf (c:\\users\\lnavn\\.conda\\envs\\femo1\\lib\\site-packages)\n",
      "WARNING: Ignoring invalid distribution -rotobuf (c:\\users\\lnavn\\.conda\\envs\\femo1\\lib\\site-packages)\n",
      "WARNING: Ignoring invalid distribution -rotobuf (c:\\users\\lnavn\\.conda\\envs\\femo1\\lib\\site-packages)\n"
     ]
    },
    {
     "name": "stdout",
     "output_type": "stream",
     "text": [
      "Requirement already satisfied: scikit-learn in c:\\users\\lnavn\\.conda\\envs\\femo1\\lib\\site-packages (1.2.2)\n",
      "Requirement already satisfied: scipy>=1.3.2 in c:\\users\\lnavn\\.conda\\envs\\femo1\\lib\\site-packages (from scikit-learn) (1.10.1)\n",
      "Requirement already satisfied: joblib>=1.1.1 in c:\\users\\lnavn\\.conda\\envs\\femo1\\lib\\site-packages (from scikit-learn) (1.2.0)\n",
      "Requirement already satisfied: threadpoolctl>=2.0.0 in c:\\users\\lnavn\\.conda\\envs\\femo1\\lib\\site-packages (from scikit-learn) (3.1.0)\n",
      "Requirement already satisfied: numpy>=1.17.3 in c:\\users\\lnavn\\.conda\\envs\\femo1\\lib\\site-packages (from scikit-learn) (1.23.5)\n"
     ]
    },
    {
     "name": "stderr",
     "output_type": "stream",
     "text": [
      "WARNING: Ignoring invalid distribution -rotobuf (c:\\users\\lnavn\\.conda\\envs\\femo1\\lib\\site-packages)\n",
      "WARNING: Ignoring invalid distribution -rotobuf (c:\\users\\lnavn\\.conda\\envs\\femo1\\lib\\site-packages)\n",
      "WARNING: Ignoring invalid distribution -rotobuf (c:\\users\\lnavn\\.conda\\envs\\femo1\\lib\\site-packages)\n",
      "WARNING: Ignoring invalid distribution -rotobuf (c:\\users\\lnavn\\.conda\\envs\\femo1\\lib\\site-packages)\n",
      "WARNING: Ignoring invalid distribution -rotobuf (c:\\users\\lnavn\\.conda\\envs\\femo1\\lib\\site-packages)\n",
      "WARNING: Ignoring invalid distribution -rotobuf (c:\\users\\lnavn\\.conda\\envs\\femo1\\lib\\site-packages)\n"
     ]
    },
    {
     "name": "stdout",
     "output_type": "stream",
     "text": [
      "Requirement already satisfied: mtcnn in c:\\users\\lnavn\\.conda\\envs\\femo1\\lib\\site-packages (0.1.1)\n",
      "Requirement already satisfied: keras>=2.0.0 in c:\\users\\lnavn\\.conda\\envs\\femo1\\lib\\site-packages (from mtcnn) (2.10.0)\n",
      "Requirement already satisfied: opencv-python>=4.1.0 in c:\\users\\lnavn\\.conda\\envs\\femo1\\lib\\site-packages (from mtcnn) (4.7.0.72)\n",
      "Requirement already satisfied: numpy>=1.19.3 in c:\\users\\lnavn\\.conda\\envs\\femo1\\lib\\site-packages (from opencv-python>=4.1.0->mtcnn) (1.23.5)\n"
     ]
    },
    {
     "name": "stderr",
     "output_type": "stream",
     "text": [
      "WARNING: Ignoring invalid distribution -rotobuf (c:\\users\\lnavn\\.conda\\envs\\femo1\\lib\\site-packages)\n",
      "WARNING: Ignoring invalid distribution -rotobuf (c:\\users\\lnavn\\.conda\\envs\\femo1\\lib\\site-packages)\n",
      "WARNING: Ignoring invalid distribution -rotobuf (c:\\users\\lnavn\\.conda\\envs\\femo1\\lib\\site-packages)\n",
      "WARNING: Ignoring invalid distribution -rotobuf (c:\\users\\lnavn\\.conda\\envs\\femo1\\lib\\site-packages)\n",
      "WARNING: Ignoring invalid distribution -rotobuf (c:\\users\\lnavn\\.conda\\envs\\femo1\\lib\\site-packages)\n",
      "WARNING: Ignoring invalid distribution -rotobuf (c:\\users\\lnavn\\.conda\\envs\\femo1\\lib\\site-packages)\n"
     ]
    }
   ],
   "source": [
    "!pip install opencv-python\n",
    "!pip install imgaug\n",
    "!pip install scikit-learn\n",
    "!pip install mtcnn"
   ]
  },
  {
   "cell_type": "code",
   "execution_count": 1,
   "metadata": {},
   "outputs": [],
   "source": [
    "#make a function that calculates the files in a directory and subdirectories\n",
    "import os\n",
    "def count_files(path):\n",
    "    count = 0\n",
    "    for root, dirs, files in os.walk(path):\n",
    "        count += len(files)\n",
    "    return count"
   ]
  },
  {
   "cell_type": "code",
   "execution_count": 2,
   "metadata": {},
   "outputs": [
    {
     "name": "stdout",
     "output_type": "stream",
     "text": [
      "89010\n"
     ]
    }
   ],
   "source": [
    "print(count_files(\"dataset\"))"
   ]
  },
  {
   "cell_type": "code",
   "execution_count": 3,
   "metadata": {},
   "outputs": [],
   "source": [
    "def load_dataset(folder_path):\n",
    "    images = []\n",
    "    labels = []\n",
    "    emotions = []\n",
    "    \n",
    "    for emotion in os.listdir(folder_path):\n",
    "        emotion_folder = os.path.join(folder_path, emotion)\n",
    "        if os.path.isdir(emotion_folder):\n",
    "            emotions.append(emotion)  # Store the emotion in the order encountered\n",
    "            for image_file in os.listdir(emotion_folder):\n",
    "                image_path = os.path.join(emotion_folder, image_file)\n",
    "                image = cv2.imread(image_path)\n",
    "                if image is not None:\n",
    "                    images.append(image)\n",
    "                    labels.append(emotion)\n",
    "    \n",
    "    return images, labels, emotions"
   ]
  },
  {
   "cell_type": "code",
   "execution_count": 4,
   "metadata": {},
   "outputs": [],
   "source": [
    "import os\n",
    "import cv2\n",
    "\n",
    "# Example usage:\n",
    "train_folder = \"dataset\"\n",
    "\n",
    "train_images, train_labels, train_emotions = load_dataset(train_folder)"
   ]
  },
  {
   "cell_type": "code",
   "execution_count": null,
   "metadata": {},
   "outputs": [],
   "source": [
    "print(\"Train emotions order:\", train_emotions)"
   ]
  },
  {
   "cell_type": "code",
   "execution_count": null,
   "metadata": {},
   "outputs": [],
   "source": [
    "len(train_images)"
   ]
  },
  {
   "cell_type": "code",
   "execution_count": null,
   "metadata": {},
   "outputs": [],
   "source": [
    "import imgaug.augmenters as iaa\n",
    "\n",
    "def augment_dataset(images, labels):\n",
    "    augmented_images = []\n",
    "    augmented_labels = []\n",
    "\n",
    "    seq = iaa.Sequential([\n",
    "        iaa.Fliplr(0.5),  # flip horizontally with a 50% chance\n",
    "        iaa.Affine(rotate=(-10, 10)),  # rotate images by -10 to 10 degrees\n",
    "        iaa.GaussianBlur(sigma=(0, 1.0)),  # apply Gaussian blur with sigma between 0 and 1.0\n",
    "        iaa.AdditiveGaussianNoise(scale=(0, 0.05 * 255)),  # add Gaussian noise\n",
    "        iaa.Resize({\"height\": 64, \"width\": 64})  # resize images to 64x64 pixels\n",
    "    ], random_order=True)\n",
    "\n",
    "    for image, label in zip(images, labels):\n",
    "        augmented_images.extend(seq(images=[image] * 3))  # Augment each image 3 times for increased diversity\n",
    "        augmented_labels.extend([label] * 3)\n",
    "\n",
    "    return augmented_images, augmented_labels\n",
    "\n",
    "# Example usage:\n",
    "augmented_train_images, augmented_train_labels = augment_dataset(train_images, train_labels)\n",
    "print(\"Augmentation of train dataset complete\") "
   ]
  },
  {
   "cell_type": "code",
   "execution_count": null,
   "metadata": {},
   "outputs": [],
   "source": [
    "import cv2\n",
    "import numpy as np\n",
    "from sklearn.model_selection import train_test_split\n",
    "\n",
    "def preprocess_images(images):\n",
    "    preprocessed_images = []\n",
    "    for image in images:\n",
    "        # Convert image to grayscale\n",
    "        gray = cv2.cvtColor(image, cv2.COLOR_BGR2GRAY)\n",
    "        # Resize image to a consistent size (e.g., 64x64)\n",
    "        resized = cv2.resize(gray, (64, 64))\n",
    "        # Normalize pixel values to [0, 1]\n",
    "        normalized = resized / 255.0\n",
    "        preprocessed_images.append(normalized)\n",
    "    \n",
    "    return np.array(preprocessed_images)\n",
    "\n",
    "# Preprocess augmented training images\n",
    "preprocessed_train_images = preprocess_images(augmented_train_images)\n",
    "print(\"Preprocessing of training images complete\")\n",
    "preprocessed_train_images, preprocessed_validation_images, train_labels, validation_labels = train_test_split(\n",
    "    preprocessed_train_images, augmented_train_labels, test_size=0.3, random_state=42\n",
    ")"
   ]
  },
  {
   "cell_type": "code",
   "execution_count": null,
   "metadata": {},
   "outputs": [],
   "source": [
    "#%store preprocessed_train_images            #save for later\n",
    "#%store preprocessed_validation_images       #save for later\n",
    "\n",
    "import pickle\n",
    "\n",
    "# Save variables\n",
    "data = {\n",
    "    'preprocessed_train_images': preprocessed_train_images,\n",
    "    'preprocessed_validation_images': preprocessed_validation_images,\n",
    "    'train_labels': train_labels,\n",
    "    'validation_labels': validation_labels,\n",
    "    # Add more variables as needed\n",
    "}\n",
    "\n",
    "with open('variables.pkl', 'wb') as file:\n",
    "    pickle.dump(data, file)"
   ]
  },
  {
   "cell_type": "code",
   "execution_count": null,
   "metadata": {},
   "outputs": [],
   "source": [
    "# Load variables\n",
    "import pickle\n",
    "\n",
    "with open('variables.pkl', 'rb') as file:\n",
    "    data = pickle.load(file)\n",
    "\n",
    "preprocessed_train_images = data['preprocessed_train_images']\n",
    "preprocessed_validation_images = data['preprocessed_validation_images']\n",
    "train_labels = data['train_labels']\n",
    "validation_labels = data['validation_labels']"
   ]
  },
  {
   "cell_type": "code",
   "execution_count": null,
   "metadata": {},
   "outputs": [],
   "source": [
    "import tensorflow as tf\n",
    "from tensorflow.python.client import device_lib\n",
    "\n",
    "print(\"Num GPUs Available: \", len(tf.config.list_physical_devices('GPU')))\n",
    "device_lib.list_local_devices()"
   ]
  },
  {
   "attachments": {},
   "cell_type": "markdown",
   "metadata": {},
   "source": [
    "Training"
   ]
  },
  {
   "cell_type": "code",
   "execution_count": null,
   "metadata": {},
   "outputs": [],
   "source": [
    "tf.keras.backend.clear_session()"
   ]
  },
  {
   "cell_type": "code",
   "execution_count": null,
   "metadata": {},
   "outputs": [],
   "source": [
    "import tensorflow as tf\n",
    "from tensorflow.keras import layers, models\n",
    "import numpy as np\n",
    "import matplotlib.pyplot as plt\n",
    "\n",
    "# Define the CNN model architecture\n",
    "model = models.Sequential([\n",
    "    layers.Conv2D(32, (3, 3), activation='relu', input_shape=(64, 64, 1)),\n",
    "    layers.MaxPooling2D((2, 2)),\n",
    "    layers.Conv2D(64, (3, 3), activation='relu'),\n",
    "    layers.MaxPooling2D((2, 2)),\n",
    "    layers.Conv2D(128, (3, 3), activation='relu'),\n",
    "    layers.MaxPooling2D((2, 2)),\n",
    "    layers.Flatten(),\n",
    "    layers.Dense(128, activation='relu'),\n",
    "    layers.Dense(7, activation='softmax')\n",
    "])\n",
    "\n",
    "# Compile the model\n",
    "model.compile(optimizer='adam',\n",
    "              loss='sparse_categorical_crossentropy',\n",
    "              metrics=['accuracy'])\n",
    "\n",
    "# Reshape preprocessed images for CNN input\n",
    "train_images_reshaped = np.expand_dims(preprocessed_train_images, axis=-1)\n",
    "validation_images_reshaped = np.expand_dims(preprocessed_validation_images, axis=-1)\n",
    "\n",
    "# Verify the shape and data type\n",
    "print(train_images_reshaped.shape)  # Check the shape\n",
    "print(train_images_reshaped.dtype)  # Check the data type\n",
    "\n",
    "# Confirm the number of channels\n",
    "# If images are RGB, adjust the input shape accordingly\n",
    "\n",
    "# Define a mapping of emotions to numerical labels\n",
    "emotion_mapping = {\n",
    "    'angry': 0,\n",
    "    'disgust': 1,\n",
    "    'fear': 2,\n",
    "    'happy': 3,\n",
    "    'neutral': 4,\n",
    "    'sad': 5,\n",
    "    'surprise': 6\n",
    "}\n",
    "\n",
    "# Convert emotion labels to numerical labels\n",
    "train_labels_encoded = np.array([emotion_mapping[label] for label in train_labels])\n",
    "validation_labels_encoded = np.array([emotion_mapping[label] for label in validation_labels])\n",
    "\n",
    "# Set the batch size\n",
    "batch_size = 2\n",
    "\n",
    "# Train the model with batch processing and keep track of metrics\n",
    "\n",
    "with tf.device('/gpu:0'):\n",
    "    history = model.fit(train_images_reshaped, train_labels_encoded, batch_size=batch_size, epochs=20, validation_data=(validation_images_reshaped, validation_labels_encoded))\n",
    "\n",
    "# Plot the accuracy and loss curves\n",
    "plt.figure(figsize=(12, 4))\n",
    "plt.subplot(1, 2, 1)\n",
    "plt.plot(history.history['accuracy'], label='Training Accuracy')\n",
    "plt.plot(history.history['val_accuracy'], label='Validation Accuracy')\n",
    "plt.title('Accuracy')\n",
    "plt.xlabel('Epoch')\n",
    "plt.ylabel('Accuracy')\n",
    "plt.legend()\n",
    "\n",
    "plt.subplot(1, 2, 2)\n",
    "plt.plot(history.history['loss'], label='Training Loss')\n",
    "plt.plot(history.history['val_loss'], label='Validation Loss')\n",
    "plt.title('Loss')\n",
    "plt.xlabel('Epoch')\n",
    "plt.ylabel('Loss')\n",
    "plt.legend()\n",
    "\n",
    "plt.tight_layout()\n",
    "plt.show()"
   ]
  },
  {
   "attachments": {},
   "cell_type": "markdown",
   "metadata": {},
   "source": [
    "Other Approaches"
   ]
  },
  {
   "cell_type": "code",
   "execution_count": null,
   "metadata": {},
   "outputs": [],
   "source": [
    "import tensorflow as tf\n",
    "from tensorflow.keras import layers, models\n",
    "import numpy as np\n",
    "import matplotlib.pyplot as plt\n",
    "\n",
    "# Define the base CNN model for transfer learning\n",
    "base_model = models.Sequential([\n",
    "    layers.Conv2D(32, (3, 3), activation='relu', input_shape=(64, 64, 1)),\n",
    "    layers.MaxPooling2D((2, 2)),\n",
    "    layers.Conv2D(64, (3, 3), activation='relu'),\n",
    "    layers.MaxPooling2D((2, 2)),\n",
    "    layers.Conv2D(128, (3, 3), activation='relu'),\n",
    "    layers.MaxPooling2D((2, 2)),\n",
    "    layers.Flatten(),\n",
    "    layers.Dense(128, activation='relu'),\n",
    "    layers.Dense(7, activation='softmax')\n",
    "])\n",
    "\n",
    "# Load the pre-trained weights (e.g., trained on a larger dataset)\n",
    "base_model.load_weights('emotion_detection_model.h5')\n",
    "\n",
    "# Create a new model by adding a few additional layers on top of the base model\n",
    "model = models.Sequential([\n",
    "    base_model,\n",
    "    layers.Dense(64, activation='relu'),\n",
    "    layers.Dense(7, activation='softmax')\n",
    "])\n",
    "\n",
    "# Compile the model\n",
    "model.compile(optimizer='adam',\n",
    "              loss='sparse_categorical_crossentropy',\n",
    "              metrics=['accuracy'])\n",
    "\n",
    "# Reshape preprocessed images for CNN input\n",
    "train_images_reshaped = np.expand_dims(preprocessed_train_images, axis=-1)\n",
    "validation_images_reshaped = np.expand_dims(preprocessed_validation_images, axis=-1)\n",
    "\n",
    "# Convert emotion labels to numerical labels\n",
    "emotion_mapping = {\n",
    "    'angry': 0,\n",
    "    'disgust': 1,\n",
    "    'fear': 2,\n",
    "    'happy': 3,\n",
    "    'neutral': 4,\n",
    "    'sad': 5,\n",
    "    'surprise': 6\n",
    "}\n",
    "\n",
    "train_labels_encoded = np.array([emotion_mapping[label] for label in train_labels])\n",
    "validation_labels_encoded = np.array([emotion_mapping[label] for label in validation_labels])\n",
    "\n",
    "# Set the batch size\n",
    "batch_size = 64\n",
    "\n",
    "# Train the model on a subset of data (e.g., first 1000 samples)\n",
    "model.fit(train_images_reshaped[:1000], train_labels_encoded[:1000], batch_size=batch_size, epochs=10)\n",
    "\n",
    "# Train the model on additional data (e.g., next 1000 samples)\n",
    "model.fit(train_images_reshaped[1000:2000], train_labels_encoded[1000:2000], epochs=1000)\n",
    "\n",
    "# Evaluate the model on the validation data\n",
    "model.evaluate(validation_images_reshaped, validation_labels_encoded)\n"
   ]
  },
  {
   "cell_type": "code",
   "execution_count": null,
   "metadata": {},
   "outputs": [],
   "source": [
    "# Save the trained model\n",
    "model.save('emotion_detection_model_v2.h5')"
   ]
  },
  {
   "attachments": {},
   "cell_type": "markdown",
   "metadata": {},
   "source": [
    "<h4>To perform test on a single image</h4>"
   ]
  },
  {
   "cell_type": "code",
   "execution_count": null,
   "metadata": {},
   "outputs": [],
   "source": [
    "import tensorflow as tf\n",
    "from tensorflow.keras.models import load_model\n",
    "import cv2\n",
    "import numpy as np\n",
    "\n",
    "# Load the saved model\n",
    "model = load_model('emotion_detection_model.h5')\n",
    "\n",
    "# Load and preprocess the new image\n",
    "image = cv2.imread('fear.jpg', cv2.IMREAD_GRAYSCALE)\n",
    "image = cv2.resize(image, (64, 64))\n",
    "image = image.astype('float32') / 255.0\n",
    "image = np.expand_dims(image, axis=0)\n",
    "image = np.expand_dims(image, axis=-1)\n",
    "\n",
    "#show image\n",
    "plt.imshow(image[0,:,:,0], cmap='gray')\n",
    "plt.show()\n",
    "\n",
    "# Make predictions\n",
    "predictions = model.predict(image)\n",
    "predicted_class = np.argmax(predictions[0])\n",
    "\n",
    "# Print the predicted class and probability distribution\n",
    "# angry', 'disgust', 'fear', 'happy', 'neutral', 'sad', 'surprise'\n",
    "emotion_mapping = {\n",
    "    0: 'angry',\n",
    "    1: 'disgust',\n",
    "     2: 'fear',\n",
    "     3: 'happy',\n",
    "     4: 'neutral',\n",
    "     5: 'sad',\n",
    "     6: 'surprise'\n",
    "}\n",
    "\n",
    "predicted_emotion = emotion_mapping[predicted_class]\n",
    "print('Predicted Emotion:', predicted_emotion)\n",
    "print('Probability Distribution:', predictions[0])\n"
   ]
  },
  {
   "attachments": {},
   "cell_type": "markdown",
   "metadata": {},
   "source": [
    "<h4>To perform test on multiple images stored in a folder </h4>"
   ]
  },
  {
   "cell_type": "code",
   "execution_count": null,
   "metadata": {},
   "outputs": [],
   "source": [
    "import tensorflow as tf\n",
    "from tensorflow.keras.models import load_model\n",
    "import cv2\n",
    "import numpy as np\n",
    "import os\n",
    "from faces import extract_face\n",
    "import matplotlib.pyplot as plt\n",
    "\n",
    "# Load the saved model\n",
    "model = load_model('emotion_detection_model_v2.h5')\n",
    "\n",
    "# Define the emotion mapping\n",
    "emotion_mapping = {\n",
    "    0: 'angry',\n",
    "    1: 'disgust',\n",
    "    2: 'fear',\n",
    "    3: 'happy',\n",
    "    4: 'neutral',\n",
    "    5: 'sad',\n",
    "    6: 'surprise'\n",
    "}\n",
    "\n",
    "# Folder path containing the test images\n",
    "test_folder = 'selfTest'\n",
    "\n",
    "# Iterate over each file in the test folder\n",
    "for filename in os.listdir(test_folder):\n",
    "    # Load and preprocess the image\n",
    "    image_path = os.path.join(test_folder, filename)\n",
    "    face = extract_face(image_path)\n",
    "\n",
    "    if face is not None:\n",
    "        # Preprocess the extracted face\n",
    "        face = cv2.cvtColor(face, cv2.COLOR_BGR2GRAY)\n",
    "        face = cv2.resize(face, (64, 64))\n",
    "        face = face.astype('float32') / 255.0\n",
    "        face = np.expand_dims(face, axis=0)\n",
    "        face = np.expand_dims(face, axis=-1)\n",
    "\n",
    "        # Make predictions\n",
    "        predictions = model.predict(face)\n",
    "        predicted_class = np.argmax(predictions[0])\n",
    "        predicted_emotion = emotion_mapping[predicted_class]\n",
    "\n",
    "        # Show the image\n",
    "        plt.imshow(face[0, :, :, 0], cmap='gray')\n",
    "        plt.show()\n",
    "\n",
    "        # Print the predicted emotion and probability distribution\n",
    "        print('File:', filename)\n",
    "        print('Predicted Emotion:', predicted_emotion)\n",
    "        print('Probability Distribution:', predictions[0])\n",
    "        print('------------------------')\n",
    "    else:\n",
    "        print('No face detected in', filename)\n"
   ]
  },
  {
   "attachments": {},
   "cell_type": "markdown",
   "metadata": {},
   "source": [
    "<h4>Test with camera</h4>"
   ]
  },
  {
   "cell_type": "code",
   "execution_count": 1,
   "metadata": {},
   "outputs": [
    {
     "ename": "TypeError",
     "evalue": "Can't convert object to 'str' for 'filename'",
     "output_type": "error",
     "traceback": [
      "\u001b[1;31m---------------------------------------------------------------------------\u001b[0m",
      "\u001b[1;31mTypeError\u001b[0m                                 Traceback (most recent call last)",
      "Cell \u001b[1;32mIn[1], line 55\u001b[0m\n\u001b[0;32m     52\u001b[0m ret, frame \u001b[39m=\u001b[39m cap\u001b[39m.\u001b[39mread()\n\u001b[0;32m     54\u001b[0m \u001b[39m# Extract the face from the frame\u001b[39;00m\n\u001b[1;32m---> 55\u001b[0m face \u001b[39m=\u001b[39m extract_face(frame)\n\u001b[0;32m     57\u001b[0m \u001b[39mif\u001b[39;00m face \u001b[39mis\u001b[39;00m \u001b[39mnot\u001b[39;00m \u001b[39mNone\u001b[39;00m:\n\u001b[0;32m     58\u001b[0m     \u001b[39m# Preprocess the extracted face\u001b[39;00m\n\u001b[0;32m     59\u001b[0m     face \u001b[39m=\u001b[39m cv2\u001b[39m.\u001b[39mcvtColor(face, cv2\u001b[39m.\u001b[39mCOLOR_BGR2GRAY)\n",
      "Cell \u001b[1;32mIn[1], line 27\u001b[0m, in \u001b[0;36mextract_face\u001b[1;34m(image_path)\u001b[0m\n\u001b[0;32m     24\u001b[0m net \u001b[39m=\u001b[39m cv2\u001b[39m.\u001b[39mdnn\u001b[39m.\u001b[39mreadNetFromCaffe(model_path, weights_path)\n\u001b[0;32m     26\u001b[0m \u001b[39m# Read the image\u001b[39;00m\n\u001b[1;32m---> 27\u001b[0m image \u001b[39m=\u001b[39m cv2\u001b[39m.\u001b[39;49mimread(image_path)\n\u001b[0;32m     29\u001b[0m \u001b[39m# Create a blob from the image\u001b[39;00m\n\u001b[0;32m     30\u001b[0m blob \u001b[39m=\u001b[39m cv2\u001b[39m.\u001b[39mdnn\u001b[39m.\u001b[39mblobFromImage(image, \u001b[39m1.0\u001b[39m, (\u001b[39m300\u001b[39m, \u001b[39m300\u001b[39m), (\u001b[39m104.0\u001b[39m, \u001b[39m177.0\u001b[39m, \u001b[39m123.0\u001b[39m))\n",
      "\u001b[1;31mTypeError\u001b[0m: Can't convert object to 'str' for 'filename'"
     ]
    }
   ],
   "source": [
    "import tensorflow as tf\n",
    "from tensorflow.keras.models import load_model\n",
    "import cv2\n",
    "import numpy as np\n",
    "from faces import extract_face\n",
    "\n",
    "# Load the saved model\n",
    "model = load_model('emotion_detection_model_v2.h5')\n",
    "\n",
    "# Define the emotion mapping\n",
    "emotion_mapping = {\n",
    "    0: 'angry',\n",
    "    1: 'disgust',\n",
    "    2: 'fear',\n",
    "    3: 'happy',\n",
    "    4: 'neutral',\n",
    "    5: 'sad',\n",
    "    6: 'surprise'\n",
    "}\n",
    "\n",
    "# Function to extract human face from image using HOG algorithm\n",
    "def extract_face(image):\n",
    "    # Load the pre-trained HOG face detector\n",
    "    face_cascade = cv2.CascadeClassifier(cv2.data.haarcascades + 'haarcascade_frontalface_default.xml')\n",
    "\n",
    "    # Convert the image to grayscale\n",
    "    gray = cv2.cvtColor(image, cv2.COLOR_BGR2GRAY)\n",
    "\n",
    "    # Detect faces in the image\n",
    "    faces = face_cascade.detectMultiScale(gray, scaleFactor=1.1, minNeighbors=5, minSize=(30, 30))\n",
    "\n",
    "    # Extract the first detected face (assuming only one face is present)\n",
    "    if len(faces) > 0:\n",
    "        (x, y, w, h) = faces[0]\n",
    "        face = image[y:y+h, x:x+w]\n",
    "        return (face, (x, y, w, h))\n",
    "\n",
    "    return (None, None)\n",
    "\n",
    "# Open the video capture\n",
    "cap = cv2.VideoCapture(0)\n",
    "\n",
    "while True:\n",
    "    # Read the frame from the video capture\n",
    "    ret, frame = cap.read()\n",
    "\n",
    "    # Extract the face from the frame\n",
    "    face, face_coords = extract_face(frame)\n",
    "\n",
    "    if face is not None:\n",
    "        # Preprocess the extracted face\n",
    "        face = cv2.cvtColor(face, cv2.COLOR_BGR2GRAY)\n",
    "        face = cv2.resize(face, (64, 64))\n",
    "        face = face.astype('float32') / 255.0\n",
    "        face = np.expand_dims(face, axis=0)\n",
    "        face = np.expand_dims(face, axis=-1)\n",
    "\n",
    "        # Make predictions\n",
    "        predictions = model.predict(face)\n",
    "        predicted_class = np.argmax(predictions[0])\n",
    "        predicted_emotion = emotion_mapping[predicted_class]\n",
    "\n",
    "        # Mark the predicted emotion on the frame\n",
    "        (x, y, w, h) = face_coords\n",
    "        cv2.rectangle(frame, (x, y), (x+w, y+h), (0, 255, 0), 2)\n",
    "        cv2.putText(frame, predicted_emotion, (x, y-10), cv2.FONT_HERSHEY_SIMPLEX, 0.9, (0, 255, 0), 2)\n",
    "\n",
    "    # Display the frame\n",
    "    cv2.imshow('Emotion Detection', frame)\n",
    "\n",
    "    # Break the loop if 'q' is pressed\n",
    "    if cv2.waitKey(1) & 0xFF == ord('q'):\n",
    "        break\n",
    "\n",
    "# Release the video capture\n",
    "cap.release()\n",
    "cv2.destroyAllWindows()\n"
   ]
  },
  {
   "attachments": {},
   "cell_type": "markdown",
   "metadata": {},
   "source": [
    "<h1>TODO</h1>\n",
    "<h4>Multiple faces in the same image</h4>\n",
    "<h4>Combine multiple images into one</h4>\n",
    "<h4>Try vj for face recognition</h4>\n",
    "blanks grid with random images, and spaces, random grid"
   ]
  },
  {
   "cell_type": "markdown",
   "metadata": {},
   "source": []
  }
 ],
 "metadata": {
  "kernelspec": {
   "display_name": "femo",
   "language": "python",
   "name": "python3"
  },
  "language_info": {
   "codemirror_mode": {
    "name": "ipython",
    "version": 3
   },
   "file_extension": ".py",
   "mimetype": "text/x-python",
   "name": "python",
   "nbconvert_exporter": "python",
   "pygments_lexer": "ipython3",
   "version": "3.9.0"
  },
  "orig_nbformat": 4
 },
 "nbformat": 4,
 "nbformat_minor": 2
}
